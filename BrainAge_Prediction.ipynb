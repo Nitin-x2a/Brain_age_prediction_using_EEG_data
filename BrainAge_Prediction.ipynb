{
 "cells": [
  {
   "cell_type": "markdown",
   "id": "608b5617",
   "metadata": {},
   "source": [
    "# Imports & Loads"
   ]
  },
  {
   "cell_type": "code",
   "execution_count": 22,
   "id": "9666301a",
   "metadata": {},
   "outputs": [],
   "source": [
    "import pandas as pd\n",
    "import numpy as np\n",
    "import joblib\n",
    "import json\n",
    "from zipfile import ZipFile"
   ]
  },
  {
   "cell_type": "markdown",
   "id": "4923d43d",
   "metadata": {},
   "source": [
    "### Some required info from the feature extraction process"
   ]
  },
  {
   "cell_type": "code",
   "execution_count": 23,
   "id": "b90789a7",
   "metadata": {},
   "outputs": [],
   "source": [
    "with open('feature_extraction_info.json', 'r') as f:\n",
    "    feature_extraction_info = json.load(f)\n",
    "    \n",
    "n_valid_subjects = feature_extraction_info['n_subjects_valid']\n",
    "n_test_subjects = feature_extraction_info['n_subjects_test']\n",
    "\n",
    "n_windows_ec = feature_extraction_info['n_windows_ec']\n",
    "n_windows_eo = feature_extraction_info['n_windows_eo']\n",
    "\n",
    "test_subjects = feature_extraction_info['test_dataset_subjects']"
   ]
  },
  {
   "cell_type": "markdown",
   "id": "a1bbfbb1",
   "metadata": {},
   "source": [
    "### Eyes closed condition"
   ]
  },
  {
   "cell_type": "code",
   "execution_count": 24,
   "id": "e9fcd8cc",
   "metadata": {},
   "outputs": [],
   "source": [
    "test_features_ec_path = \"Data/test_ec.npy\"\n",
    "\n",
    "test_features_ec = np.load(test_features_ec_path, allow_pickle=True)"
   ]
  },
  {
   "cell_type": "code",
   "execution_count": 25,
   "id": "a55e191c",
   "metadata": {},
   "outputs": [],
   "source": [
    "model_ec_path = \"autoML_model_ec6.pkl\"\n",
    "\n",
    "model_ec = joblib.load(model_ec_path)"
   ]
  },
  {
   "cell_type": "code",
   "execution_count": 26,
   "id": "59dc2474",
   "metadata": {},
   "outputs": [],
   "source": [
    "df_valid_ec_path = \"Data/df_valid_ec.csv\"\n",
    "\n",
    "df_valid_ec = pd.read_csv(df_valid_ec_path)"
   ]
  },
  {
   "cell_type": "markdown",
   "id": "3edd0ab6",
   "metadata": {},
   "source": [
    "### Eyes open condition"
   ]
  },
  {
   "cell_type": "code",
   "execution_count": 27,
   "id": "200531e8",
   "metadata": {},
   "outputs": [],
   "source": [
    "test_features_eo_path = \"Data/test_eo.npy\"\n",
    "\n",
    "test_features_eo = np.load(test_features_eo_path, allow_pickle=True)"
   ]
  },
  {
   "cell_type": "code",
   "execution_count": 28,
   "id": "83025f29",
   "metadata": {},
   "outputs": [],
   "source": [
    "model_eo_path = \"autoML_model_eo6.pkl\"\n",
    "\n",
    "model_eo = joblib.load(model_eo_path)"
   ]
  },
  {
   "cell_type": "code",
   "execution_count": 29,
   "id": "b89fc135",
   "metadata": {},
   "outputs": [],
   "source": [
    "df_valid_eo_path = \"Data/df_valid_eo.csv\"\n",
    "\n",
    "df_valid_eo = pd.read_csv(df_valid_eo_path)"
   ]
  },
  {
   "cell_type": "markdown",
   "id": "6ce54ea5",
   "metadata": {},
   "source": [
    "# Defining EO-EC models ensemble weights"
   ]
  },
  {
   "cell_type": "code",
   "execution_count": 46,
   "id": "8184e675",
   "metadata": {},
   "outputs": [],
   "source": [
    "ec_model_weight = 0.635\n",
    "\n",
    "eo_model_weight = 0.365\n",
    "\n",
    "assert (ec_model_weight + eo_model_weight == 1), \"Sum of weights should be equal to 1\""
   ]
  },
  {
   "cell_type": "markdown",
   "id": "8f0b1cc2",
   "metadata": {},
   "source": [
    "# Metric function"
   ]
  },
  {
   "cell_type": "code",
   "execution_count": 47,
   "id": "08b6725e",
   "metadata": {},
   "outputs": [],
   "source": [
    "def calc_MAE(signal1, signal2):\n",
    "    \n",
    "    \"\"\"\n",
    "    Returns the Mean Absoluete Error between signal1 and signal2 (Both should be 1d arrays)\n",
    "    \"\"\"\n",
    "    \n",
    "    return np.mean(np.abs(signal1 - signal2))"
   ]
  },
  {
   "cell_type": "markdown",
   "id": "88e104fa",
   "metadata": {},
   "source": [
    "# Verifying validation scores "
   ]
  },
  {
   "cell_type": "markdown",
   "id": "55defb8c",
   "metadata": {},
   "source": [
    "### EC Condition Validation set"
   ]
  },
  {
   "cell_type": "code",
   "execution_count": 48,
   "id": "8c484c66",
   "metadata": {},
   "outputs": [
    {
     "name": "stdout",
     "output_type": "stream",
     "text": [
      "autoML_model_ec validation set score:  1.7019202191350455\n"
     ]
    }
   ],
   "source": [
    "valid_ec_features = df_valid_ec.iloc[:, :-1].to_numpy()\n",
    "valid_ec_Y = df_valid_ec.iloc[:, -1].to_numpy()\n",
    "\n",
    "valid_ec_pred = model_ec.predict(valid_ec_features)\n",
    "\n",
    "model_ec_valid_score = calc_MAE(valid_ec_pred, valid_ec_Y)\n",
    "\n",
    "print(\"autoML_model_ec validation set score: \", model_ec_valid_score)"
   ]
  },
  {
   "cell_type": "markdown",
   "id": "b8bed8e3",
   "metadata": {},
   "source": [
    "### EO Condition validation "
   ]
  },
  {
   "cell_type": "code",
   "execution_count": 49,
   "id": "f378dec4",
   "metadata": {},
   "outputs": [
    {
     "name": "stdout",
     "output_type": "stream",
     "text": [
      "autoML_model_eo validation set score:  1.8187050114823526\n"
     ]
    }
   ],
   "source": [
    "valid_eo_features = df_valid_eo.iloc[:, :-1].to_numpy()\n",
    "valid_eo_Y = df_valid_eo.iloc[:, -1].to_numpy()\n",
    "\n",
    "valid_eo_pred = model_eo.predict(valid_eo_features)\n",
    "\n",
    "model_eo_valid_score = calc_MAE(valid_eo_pred, valid_eo_Y)\n",
    "print(\"autoML_model_eo validation set score: \", model_eo_valid_score)"
   ]
  },
  {
   "cell_type": "markdown",
   "id": "4ec4d30f",
   "metadata": {},
   "source": [
    "### Ensemble score over Validation set"
   ]
  },
  {
   "cell_type": "code",
   "execution_count": 50,
   "id": "81974e30",
   "metadata": {},
   "outputs": [],
   "source": [
    "#Actual age values are same for both 'eo' and 'ec' validation sets\n",
    "\n",
    "valid_Y_actual = valid_ec_Y[::n_windows_ec]\n",
    "\n",
    "#valid_Y_actual = validY_eo[::n_windows_eo] "
   ]
  },
  {
   "cell_type": "code",
   "execution_count": 51,
   "id": "40f9063f",
   "metadata": {},
   "outputs": [],
   "source": [
    "valid_ec_Y_pred = valid_ec_pred.reshape(n_valid_subjects, -1)\n",
    "valid_ec_Y_pred = np.mean(valid_ec_Y_pred, axis=1)"
   ]
  },
  {
   "cell_type": "code",
   "execution_count": 52,
   "id": "3520997f",
   "metadata": {},
   "outputs": [],
   "source": [
    "valid_eo_Y_pred = valid_eo_pred.reshape(n_valid_subjects, -1)\n",
    "valid_eo_Y_pred = np.mean(valid_eo_Y_pred, axis=1)"
   ]
  },
  {
   "cell_type": "code",
   "execution_count": 53,
   "id": "98109044",
   "metadata": {},
   "outputs": [
    {
     "name": "stdout",
     "output_type": "stream",
     "text": [
      "Validation set final score:  1.5787076303198\n"
     ]
    }
   ],
   "source": [
    "valid_Y_pred = (ec_model_weight*valid_ec_Y_pred) + (eo_model_weight*valid_eo_Y_pred)\n",
    "\n",
    "final_validation_score = calc_MAE(valid_Y_pred, valid_Y_actual)\n",
    "print(\"Validation set final score: \", final_validation_score)"
   ]
  },
  {
   "cell_type": "markdown",
   "id": "d47a76c5",
   "metadata": {},
   "source": [
    "# Test Predictions"
   ]
  },
  {
   "cell_type": "markdown",
   "id": "1dc3516c",
   "metadata": {},
   "source": [
    "### model_ec prediction"
   ]
  },
  {
   "cell_type": "code",
   "execution_count": 17,
   "id": "70b0f001",
   "metadata": {},
   "outputs": [],
   "source": [
    "test_ec_pred = model_ec.predict(test_features_ec)\n",
    "\n",
    "test_ec_pred = test_ec_pred.reshape(n_test_subjects, -1)\n",
    "\n",
    "test_ec_pred = np.mean(test_ec_pred, axis=1)"
   ]
  },
  {
   "cell_type": "markdown",
   "id": "44659b9e",
   "metadata": {},
   "source": [
    "### model_eo prediction"
   ]
  },
  {
   "cell_type": "code",
   "execution_count": 18,
   "id": "58ab1202",
   "metadata": {},
   "outputs": [],
   "source": [
    "test_eo_pred = model_eo.predict(test_features_eo)\n",
    "\n",
    "test_eo_pred = test_eo_pred.reshape(n_test_subjects, -1)\n",
    "\n",
    "test_eo_pred = np.mean(test_eo_pred, axis=1)"
   ]
  },
  {
   "cell_type": "markdown",
   "id": "023fecaa",
   "metadata": {},
   "source": [
    "### Ensemble of 'eo' and 'ec' predictions"
   ]
  },
  {
   "cell_type": "code",
   "execution_count": 19,
   "id": "523aebc5",
   "metadata": {},
   "outputs": [],
   "source": [
    "test_preds_final = (ec_model_weight*test_ec_pred) + (eo_model_weight*test_eo_pred)"
   ]
  },
  {
   "cell_type": "markdown",
   "id": "5f84eb36",
   "metadata": {},
   "source": [
    "### Saving the predictions in a dataframe"
   ]
  },
  {
   "cell_type": "code",
   "execution_count": 20,
   "id": "23e8832b",
   "metadata": {},
   "outputs": [
    {
     "name": "stdout",
     "output_type": "stream",
     "text": [
      "       id   age\n",
      "0    1601  9.20\n",
      "1    1602  9.67\n",
      "2    1603 10.31\n",
      "3    1604 10.51\n",
      "4    1605  8.57\n",
      "..    ...   ...\n",
      "395  1996  7.40\n",
      "396  1997 12.69\n",
      "397  1998  7.20\n",
      "398  1999  9.60\n",
      "399  2000 10.99\n",
      "\n",
      "[400 rows x 2 columns]\n"
     ]
    }
   ],
   "source": [
    "df_final = pd.DataFrame({\"id\":test_subjects, \"age\":test_preds_final})\n",
    "\n",
    "df_final.to_csv(\"df_submission.csv\", index=False)\n",
    "\n",
    "print(df_final)"
   ]
  },
  {
   "cell_type": "markdown",
   "id": "ca04e86b",
   "metadata": {},
   "source": [
    "### Zipping the submission dataframe"
   ]
  },
  {
   "cell_type": "code",
   "execution_count": 21,
   "id": "b767c8f8",
   "metadata": {},
   "outputs": [],
   "source": [
    "with ZipFile(\"df_submission.zip\", 'w') as zipf:\n",
    "    zipf.write(\"df_submission.csv\", arcname=\"df_submission.csv\")"
   ]
  }
 ],
 "metadata": {
  "kernelspec": {
   "display_name": "Python 3 (ipykernel)",
   "language": "python",
   "name": "python3"
  },
  "language_info": {
   "codemirror_mode": {
    "name": "ipython",
    "version": 3
   },
   "file_extension": ".py",
   "mimetype": "text/x-python",
   "name": "python",
   "nbconvert_exporter": "python",
   "pygments_lexer": "ipython3",
   "version": "3.8.5"
  }
 },
 "nbformat": 4,
 "nbformat_minor": 5
}

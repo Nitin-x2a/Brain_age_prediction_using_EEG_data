{
 "cells": [
  {
   "cell_type": "code",
   "execution_count": 1,
   "id": "75eb8f9a",
   "metadata": {},
   "outputs": [],
   "source": [
    "import requests"
   ]
  },
  {
   "cell_type": "code",
   "execution_count": 4,
   "id": "474e6dc5",
   "metadata": {},
   "outputs": [],
   "source": [
    "training_link = \"https://filesender.renater.fr/download.php?token=e1de0ec4-09bc-4194-b85b-59830cb04af3&files_ids=18914610\"\n",
    "\n",
    "r_training = requests.get(training_link) \n",
    "\n",
    "with open(\"training_data.zip\",'wb') as f_train:\n",
    "    f_train.write(r_training.content)"
   ]
  },
  {
   "cell_type": "code",
   "execution_count": 10,
   "id": "ed4d206b",
   "metadata": {},
   "outputs": [],
   "source": [
    "phase1_test_data_link = \"https://codalab.lisn.upsaclay.fr/my/datasets/download/648cb2e1-feb2-43a9-a12c-4d3945fba1f1\"\n",
    "\n",
    "r_test1 = requests.get(phase1_test_data_link) \n",
    "\n",
    "with open(\"phase1_test_data.zip\",'wb') as f_test1:\n",
    "    f_test1.write(r_test1.content)"
   ]
  },
  {
   "cell_type": "code",
   "execution_count": 15,
   "id": "52a666c9",
   "metadata": {},
   "outputs": [],
   "source": [
    "starting_kit_link = \"https://codalab.lisn.upsaclay.fr/my/datasets/download/46624375-17db-432e-93d2-722130055399\"\n",
    "\n",
    "r_kit = requests.get(starting_kit_link) \n",
    "\n",
    "with open(\"starting_kit.zip\",'wb') as f_kit:\n",
    "    f_kit.write(r_kit.content)"
   ]
  },
  {
   "cell_type": "code",
   "execution_count": 3,
   "id": "233b5d93",
   "metadata": {},
   "outputs": [],
   "source": [
    "phase2_test_data_link = \"https://codalab.lisn.upsaclay.fr/my/datasets/download/6899a3fc-12a0-4837-ae66-7e7f09ad862c\"\n",
    "\n",
    "r_test2 = requests.get(phase2_test_data_link) \n",
    "\n",
    "with open(\"phase2_test_data.zip\",'wb') as f_test2:\n",
    "    f_test2.write(r_test2.content)"
   ]
  }
 ],
 "metadata": {
  "kernelspec": {
   "display_name": "Python 3 (ipykernel)",
   "language": "python",
   "name": "python3"
  },
  "language_info": {
   "codemirror_mode": {
    "name": "ipython",
    "version": 3
   },
   "file_extension": ".py",
   "mimetype": "text/x-python",
   "name": "python",
   "nbconvert_exporter": "python",
   "pygments_lexer": "ipython3",
   "version": "3.8.5"
  }
 },
 "nbformat": 4,
 "nbformat_minor": 5
}

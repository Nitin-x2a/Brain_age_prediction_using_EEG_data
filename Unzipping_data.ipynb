{
 "cells": [
  {
   "cell_type": "code",
   "execution_count": 2,
   "id": "aa67f771",
   "metadata": {},
   "outputs": [],
   "source": [
    "import shutil"
   ]
  },
  {
   "cell_type": "code",
   "execution_count": 2,
   "id": "faebe895",
   "metadata": {},
   "outputs": [],
   "source": [
    "shutil.unpack_archive('training_data.zip', \"Data/training\")"
   ]
  },
  {
   "cell_type": "code",
   "execution_count": 3,
   "id": "970e5c4f",
   "metadata": {},
   "outputs": [],
   "source": [
    "shutil.unpack_archive('phase1_test_data.zip', \"Data/test_phase1\")"
   ]
  },
  {
   "cell_type": "code",
   "execution_count": null,
   "id": "1887d721",
   "metadata": {},
   "outputs": [],
   "source": [
    "shutil.unpack_archive('starting_kit.zip', \"Data/starting_kit\")"
   ]
  },
  {
   "cell_type": "code",
   "execution_count": 3,
   "id": "a9bc3566",
   "metadata": {},
   "outputs": [],
   "source": [
    "shutil.unpack_archive('phase2_test_data.zip', \"Data/test_phase2\")"
   ]
  }
 ],
 "metadata": {
  "kernelspec": {
   "display_name": "Python 3.10.2 64-bit",
   "language": "python",
   "name": "python3"
  },
  "language_info": {
   "codemirror_mode": {
    "name": "ipython",
    "version": 3
   },
   "file_extension": ".py",
   "mimetype": "text/x-python",
   "name": "python",
   "nbconvert_exporter": "python",
   "pygments_lexer": "ipython3",
   "version": "3.10.2"
  },
  "vscode": {
   "interpreter": {
    "hash": "defb578557355d64ae0d988dddda5b1c322c1b90046f5a7a6314932213370d32"
   }
  }
 },
 "nbformat": 4,
 "nbformat_minor": 5
}

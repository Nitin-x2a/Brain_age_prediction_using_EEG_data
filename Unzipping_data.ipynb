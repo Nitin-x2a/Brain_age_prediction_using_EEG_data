{
 "cells": [
  {
   "cell_type": "code",
   "execution_count": 2,
   "id": "aa67f771",
   "metadata": {},
   "outputs": [],
   "source": [
    "import shutil"
   ]
  },
  {
   "cell_type": "code",
   "execution_count": 2,
   "id": "faebe895",
   "metadata": {},
   "outputs": [],
   "source": [
    "shutil.unpack_archive('training_data.zip', \"Data/training\")"
   ]
  },
  {
   "cell_type": "code",
   "execution_count": 3,
   "id": "970e5c4f",
   "metadata": {},
   "outputs": [],
   "source": [
    "shutil.unpack_archive('phase1_test_data.zip', \"Data/test_phase1\")"
   ]
  },
  {
   "cell_type": "code",
   "execution_count": null,
   "id": "1887d721",
   "metadata": {},
   "outputs": [],
   "source": [
    "shutil.unpack_archive('starting_kit.zip', \"Data/starting_kit\")"
   ]
  },
  {
   "cell_type": "code",
   "execution_count": 3,
   "id": "a9bc3566",
   "metadata": {},
   "outputs": [],
   "source": [
    "shutil.unpack_archive('phase2_test_data.zip', \"Data/test_phase2\")"
   ]
  }
 ],
 "metadata": {
  "kernelspec": {
   "display_name": "Python 3 (ipykernel)",
   "language": "python",
   "name": "python3"
  },
  "language_info": {
   "codemirror_mode": {
    "name": "ipython",
    "version": 3
   },
   "file_extension": ".py",
   "mimetype": "text/x-python",
   "name": "python",
   "nbconvert_exporter": "python",
   "pygments_lexer": "ipython3",
   "version": "3.8.5"
  }
 },
 "nbformat": 4,
 "nbformat_minor": 5
}
